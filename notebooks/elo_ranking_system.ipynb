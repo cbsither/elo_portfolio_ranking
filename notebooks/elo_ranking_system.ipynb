{
 "cells": [
  {
   "cell_type": "markdown",
   "source": [
    "### Elo Ranking system"
   ],
   "metadata": {
    "collapsed": false
   }
  },
  {
   "cell_type": "code",
   "execution_count": 16,
   "metadata": {
    "collapsed": true,
    "ExecuteTime": {
     "end_time": "2024-07-18T19:49:35.547713300Z",
     "start_time": "2024-07-18T19:49:35.527630500Z"
    }
   },
   "outputs": [],
   "source": [
    "def elo_rating(Ra, Rb):\n",
    "    return 1 / (1 + 10**((Rb-Ra)/400))\n",
    "\n",
    "def Q_(R):\n",
    "    return 10**(R / 400)\n",
    "\n",
    "def E_(Qa, Qb):\n",
    "    return Q_(Qa) / (Q_(Qa) + Q_(Qb))\n",
    "\n",
    "def update_R_a(Ra, K, Sa, Ea):\n",
    "    return Ra + (K * (Sa - Ea))"
   ]
  },
  {
   "cell_type": "code",
   "execution_count": 17,
   "outputs": [
    {
     "data": {
      "text/plain": "(0.6863002576833125, 0.6863002576833124)"
     },
     "execution_count": 17,
     "metadata": {},
     "output_type": "execute_result"
    }
   ],
   "source": [
    "\n",
    "elo_rating(Ra=1613, Rb=1477), E_(Qa=1613, Qb=1477)"
   ],
   "metadata": {
    "collapsed": false,
    "ExecuteTime": {
     "end_time": "2024-07-18T19:49:35.602556900Z",
     "start_time": "2024-07-18T19:49:35.546473600Z"
    }
   }
  },
  {
   "cell_type": "markdown",
   "source": [
    "#### Example from wikipedia (https://en.wikipedia.org/wiki/Elo_rating_system#Theory)\n",
    "\n",
    "Suppose player A has a rating of 1613 and plays in a five-round tournament. They lose to a player rated 1609, draw with a player rated 1477, defeat a player rated 1388, defeat a player rated 1586, and lose to a player rated 1720. The player's actual score is (0 + 0.5 + 1 + 1 + 0) = 2.5. The expected score, calculated according to the formula above, was (0.51 + 0.69 + 0.79 + 0.54 + 0.35) = 2.88.\n",
    "\n",
    "Therefore, the player's new rating is [1613 + 32·(2.5 − 2.88)] = 1601, assuming that a K-factor of 32 is used. Equivalently, each game the player can be said to have put an ante of K times their expected score for the game into a pot, the opposing player does likewise, and the winner collects the full pot of value K; in the event of a draw, the players split the pot and receive $\\frac{1}{2} K$ points each."
   ],
   "metadata": {
    "collapsed": false
   }
  },
  {
   "cell_type": "code",
   "execution_count": 19,
   "outputs": [
    {
     "name": "stdout",
     "output_type": "stream",
     "text": [
      "[0.5057562084111449, 0.6863002576833125, 0.785026736998172, 0.5387780920571715, 0.3507050528890364] 2.866566348038837\n"
     ]
    },
    {
     "data": {
      "text/plain": "1601.2698768627572"
     },
     "execution_count": 19,
     "metadata": {},
     "output_type": "execute_result"
    }
   ],
   "source": [
    "Ra = 1613\n",
    "actual_outcomes = [0, 0.5, 1, 1, 0]\n",
    "K_ = 32                     # scalar\n",
    "\n",
    "exp_score = [elo_rating(Ra=1613, Rb=1609),\n",
    "             elo_rating(Ra=1613, Rb=1477),\n",
    "             elo_rating(Ra=1613, Rb=1388),\n",
    "             elo_rating(Ra=1613, Rb=1586),\n",
    "             elo_rating(Ra=1613, Rb=1720)]\n",
    "\n",
    "print(exp_score, sum(exp_score))\n",
    "\n",
    "update_R_a(Ra=Ra, K=K_, Sa=sum(actual_outcomes), Ea=sum(exp_score))"
   ],
   "metadata": {
    "collapsed": false,
    "ExecuteTime": {
     "end_time": "2024-07-18T19:49:42.947323Z",
     "start_time": "2024-07-18T19:49:42.925664300Z"
    }
   }
  },
  {
   "cell_type": "markdown",
   "source": [
    "#### Online versus Batch Updating\n",
    "\n"
   ],
   "metadata": {
    "collapsed": false
   }
  },
  {
   "cell_type": "code",
   "execution_count": 25,
   "outputs": [
    {
     "name": "stdout",
     "output_type": "stream",
     "text": [
      "1613 0.5057562084111449 1596.8158013308434\n",
      "1596.8158013308434 0.665903567494562 1591.5068871710175\n",
      "1591.5068871710175 0.763412394499129 1599.0776905470454\n",
      "1599.0776905470454 0.5188114262930644 1614.4757249056674\n",
      "1614.4757249056674 0.3526418925997798 1603.1911843424746\n",
      "1603.1911843424746\n"
     ]
    }
   ],
   "source": [
    "# online\n",
    "Ra = 1613\n",
    "actual_outcomes = [0, 0.5, 1, 1, 0]\n",
    "K_ = 32                     # scalar\n",
    "opponents = [1609, 1477, 1388, 1586, 1720]\n",
    "\n",
    "for i in range(0, len(actual_outcomes)):\n",
    "    Ea = elo_rating(Ra=Ra, Rb=opponents[i])\n",
    "    Ra_new = update_R_a(Ra=Ra, K=K_, Sa=actual_outcomes[i], Ea=Ea)\n",
    "    print(Ra, Ea, Ra_new)\n",
    "    Ra = Ra_new\n",
    "\n",
    "print(Ra)"
   ],
   "metadata": {
    "collapsed": false,
    "ExecuteTime": {
     "end_time": "2024-07-18T20:09:09.810728700Z",
     "start_time": "2024-07-18T20:09:09.796706100Z"
    }
   }
  },
  {
   "cell_type": "code",
   "execution_count": 24,
   "outputs": [
    {
     "name": "stdout",
     "output_type": "stream",
     "text": [
      "[0.5057562084111449, 0.6863002576833125, 0.785026736998172, 0.5387780920571715, 0.3507050528890364] 2.866566348038837\n"
     ]
    },
    {
     "data": {
      "text/plain": "1601.2698768627572"
     },
     "execution_count": 24,
     "metadata": {},
     "output_type": "execute_result"
    }
   ],
   "source": [
    "# batch\n",
    "Ra = 1613\n",
    "actual_outcomes = [0, 0.5, 1, 1, 0]\n",
    "K_ = 32                     # scalar\n",
    "\n",
    "exp_score = [elo_rating(Ra=1613, Rb=1609),\n",
    "             elo_rating(Ra=1613, Rb=1477),\n",
    "             elo_rating(Ra=1613, Rb=1388),\n",
    "             elo_rating(Ra=1613, Rb=1586),\n",
    "             elo_rating(Ra=1613, Rb=1720)]\n",
    "\n",
    "print(exp_score, sum(exp_score))\n",
    "\n",
    "update_R_a(Ra=Ra, K=K_, Sa=sum(actual_outcomes), Ea=sum(exp_score))"
   ],
   "metadata": {
    "collapsed": false,
    "ExecuteTime": {
     "end_time": "2024-07-18T20:08:55.849872100Z",
     "start_time": "2024-07-18T20:08:55.803127900Z"
    }
   }
  },
  {
   "cell_type": "code",
   "execution_count": null,
   "outputs": [],
   "source": [
    "class Elo:\n",
    "\n",
    "    def __init__(self):\n",
    "        pass\n",
    "\n",
    "    def elo_rating(self, Ra, Rb):\n",
    "        return 1 / (1 + 10**((Rb-Ra)/400))\n",
    "\n",
    "    def Q_(self, R):\n",
    "        return 10**(R / 400)\n",
    "\n",
    "    def E_(self, Qa, Qb):\n",
    "        return Q_(Qa) / (Q_(Qa) + Q_(Qb))\n",
    "\n",
    "    def update_R_a(self, Ra, K, Sa, Ea):\n",
    "        return Ra + (K * (Sa - Ea))\n",
    "\n",
    "\n",
    "class Player:\n",
    "\n",
    "    def __init__(self, rating=1000, outcomes=None, opponent_ratings=None, batch_size=1):\n",
    "\n",
    "        self.rating = [rating]\n",
    "        self.batch_size = batch_size\n",
    "\n",
    "        if outcomes == None and opponent_ratings == None:\n",
    "            self.opponent_ratings = []\n",
    "            self.outcomes = []\n",
    "        else:\n",
    "            self.outcomes = outcomes\n",
    "            self.opponent_ratings = opponent_ratings\n",
    "\n",
    "    def update_rating(self):\n",
    "\n",
    "\n",
    "    def update_data(self, outcomes, opponent_ratings):\n",
    "\n",
    "        if type(outcomes) == int and type(opponent_ratings) == int:\n",
    "            self.outcomes.append(outcomes)\n",
    "            self.opponent_ratings.append(opponent_ratings)\n",
    "\n",
    "        elif type(outcomes) == list and type(opponent_ratings) == list:\n",
    "\n",
    "            if len(outcomes) == len(opponent_ratings):\n",
    "                self.outcomes += outcomes\n",
    "                self.opponent_ratings += opponent_ratings\n",
    "\n",
    "            else:\n",
    "                raise Exception('outcomes and opponent_ratings must be the same length.')\n",
    "\n",
    "        else:\n",
    "            raise Exception('outcomes and opponent_ratings must be type list or int.')\n",
    "\n",
    "\n",
    "\n",
    "\n",
    "\n",
    "\n",
    "\n"
   ],
   "metadata": {
    "collapsed": false
   }
  }
 ],
 "metadata": {
  "kernelspec": {
   "display_name": "Python 3",
   "language": "python",
   "name": "python3"
  },
  "language_info": {
   "codemirror_mode": {
    "name": "ipython",
    "version": 2
   },
   "file_extension": ".py",
   "mimetype": "text/x-python",
   "name": "python",
   "nbconvert_exporter": "python",
   "pygments_lexer": "ipython2",
   "version": "2.7.6"
  }
 },
 "nbformat": 4,
 "nbformat_minor": 0
}
