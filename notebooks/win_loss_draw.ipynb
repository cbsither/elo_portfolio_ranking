{
 "cells": [
  {
   "cell_type": "markdown",
   "source": [
    "### Win, Loss, or Draw\n",
    "\n",
    "This notebook is for establishing different models for whether a win, loss, or draw has occurred."
   ],
   "metadata": {
    "collapsed": false
   }
  },
  {
   "cell_type": "markdown",
   "source": [
    "#### Model 1: Above, Below, or Equal\n",
    "\n",
    "A win occurs if stock $S_{1}$ > $S_{2}$, while a draw occurs if $S_{1}$ = $S_{2}$, and a loss if $S_{1}$ < $S_{2}$."
   ],
   "metadata": {
    "collapsed": false
   }
  },
  {
   "cell_type": "code",
   "execution_count": 5,
   "metadata": {
    "collapsed": true,
    "ExecuteTime": {
     "end_time": "2024-07-21T18:57:18.667793400Z",
     "start_time": "2024-07-21T18:57:18.660590300Z"
    }
   },
   "outputs": [
    {
     "data": {
      "text/plain": "'win'"
     },
     "execution_count": 5,
     "metadata": {},
     "output_type": "execute_result"
    }
   ],
   "source": [
    "# above, below, or equal\n",
    "\n",
    "def above_below_equal(s1: float, s2: float):\n",
    "    if s1 > s2:\n",
    "        return 'win'\n",
    "    elif s1 == s2:\n",
    "        return 'draw'\n",
    "    elif s1 < s2:\n",
    "        return 'loss'\n",
    "\n",
    "above_below_equal(s1=0.07, s2=0.06)"
   ]
  },
  {
   "cell_type": "markdown",
   "source": [
    "#### Model 2: Above bid/ask, Below bid/ask, Within bid/ask\n",
    "\n",
    "A win occurs if stock $S_{1}-$ > $S_{2}$, while a draw occurs if $S_{1}$ = $S_{2}$, and a loss if $S_{1}$ < $S_{2}$."
   ],
   "metadata": {
    "collapsed": false
   }
  },
  {
   "cell_type": "code",
   "execution_count": 2,
   "outputs": [
    {
     "name": "stdout",
     "output_type": "stream",
     "text": [
      "win\n",
      "loss\n",
      "draw\n",
      "draw\n",
      "loss\n",
      "win\n",
      "draw\n",
      "draw\n"
     ]
    }
   ],
   "source": [
    "# above bid/ask, below bid/ask, or within bid/ask\n",
    "\n",
    "def overlap(min1,max1,min2,max2):\n",
    "    start = max(min1,min2)\n",
    "    end = min(max1,max2)\n",
    "    d = end - start\n",
    "    if d < 0:\n",
    "        return 0\n",
    "    else:\n",
    "        return d\n",
    "\n",
    "def pct_overlap(min1,max1,min2,max2):\n",
    "    start = max(min1,min2)\n",
    "    end = min(max1,max2)\n",
    "    d = end - start\n",
    "    if d < 0:\n",
    "        return 0\n",
    "    else:\n",
    "        return d / (max1 - min1)\n",
    "\n",
    "\n",
    "def above_below_equal_bid_ask(s1: float, s2: float, bid_ask_s1: float, bid_ask_s2: float, decision: float):\n",
    "\n",
    "    s1_range = [s1+bid_ask_s1, s1-bid_ask_s1]\n",
    "    s2_range = [s2+bid_ask_s2, s2-bid_ask_s2]\n",
    "\n",
    "    d = pct_overlap(min1=s1_range[1],max1=s1_range[0],\n",
    "                    min2=s2_range[1],max2=s2_range[0])\n",
    "\n",
    "    if d > decision:\n",
    "        return 'draw'\n",
    "    elif s1_range[0] > s2_range[0]:\n",
    "        return 'win'\n",
    "    elif s1_range[0] < s2_range[0]:\n",
    "        return 'loss'\n",
    "\n",
    "\n",
    "print(above_below_equal_bid_ask(s1=0.06, s2=0.02, bid_ask_s1=0.01, bid_ask_s2=0.01, decision=0.9)) # win\n",
    "print(above_below_equal_bid_ask(s1=0.06, s2=0.08, bid_ask_s1=0.01, bid_ask_s2=0.01, decision=0.9)) # loss\n",
    "print(above_below_equal_bid_ask(s1=0.06, s2=0.059, bid_ask_s1=0.01, bid_ask_s2=0.01, decision=0.9)) # draw\n",
    "print(above_below_equal_bid_ask(s1=0.06, s2=0.06, bid_ask_s1=0.01, bid_ask_s2=0.01, decision=0.9)) # draw\n",
    "\n",
    "print(above_below_equal_bid_ask(s2=0.06, s1=0.02, bid_ask_s2=0.01, bid_ask_s1=0.01, decision=0.9)) # loss\n",
    "print(above_below_equal_bid_ask(s2=0.06, s1=0.08, bid_ask_s2=0.01, bid_ask_s1=0.01, decision=0.9)) # win\n",
    "print(above_below_equal_bid_ask(s2=0.06, s1=0.059, bid_ask_s2=0.01, bid_ask_s1=0.01, decision=0.9)) # draw\n",
    "print(above_below_equal_bid_ask(s2=0.06, s1=0.06, bid_ask_s2=0.01, bid_ask_s1=0.01, decision=0.9)) # draw"
   ],
   "metadata": {
    "collapsed": false,
    "ExecuteTime": {
     "end_time": "2024-07-21T19:34:30.810171400Z",
     "start_time": "2024-07-21T19:34:30.790637800Z"
    }
   }
  },
  {
   "cell_type": "code",
   "execution_count": null,
   "outputs": [],
   "source": [],
   "metadata": {
    "collapsed": false
   }
  }
 ],
 "metadata": {
  "kernelspec": {
   "display_name": "Python 3",
   "language": "python",
   "name": "python3"
  },
  "language_info": {
   "codemirror_mode": {
    "name": "ipython",
    "version": 2
   },
   "file_extension": ".py",
   "mimetype": "text/x-python",
   "name": "python",
   "nbconvert_exporter": "python",
   "pygments_lexer": "ipython2",
   "version": "2.7.6"
  }
 },
 "nbformat": 4,
 "nbformat_minor": 0
}
