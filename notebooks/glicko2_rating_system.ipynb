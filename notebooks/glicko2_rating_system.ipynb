{
 "cells": [
  {
   "cell_type": "code",
   "execution_count": 47,
   "metadata": {
    "collapsed": true,
    "ExecuteTime": {
     "end_time": "2024-07-20T19:01:43.363134100Z",
     "start_time": "2024-07-20T19:01:43.348825600Z"
    }
   },
   "outputs": [],
   "source": [
    "#https://github.com/sublee/glicko2/blob/master/glicko2.py\n",
    "#https://github.com/ryankirkman/pyglicko2/blob/master/glicko2.py\n",
    "#http://www.glicko.net/glicko/glicko2.pdf"
   ]
  },
  {
   "cell_type": "code",
   "execution_count": 48,
   "outputs": [],
   "source": [
    "import math\n",
    "\n",
    "class Player:\n",
    "    # Code from: https://github.com/ryankirkman/pyglicko2/blob/master/glicko2.py\n",
    "    # Class attribute\n",
    "    # The system constant, which constrains\n",
    "    # the change in volatility over time.\n",
    "    _tau = 0.5\n",
    "\n",
    "    def getRating(self):\n",
    "        return (self.__rating * 173.7178) + 1500\n",
    "\n",
    "    def setRating(self, rating):\n",
    "        self.__rating = (rating - 1500) / 173.7178\n",
    "\n",
    "    rating = property(getRating, setRating)\n",
    "\n",
    "    def getRd(self):\n",
    "        return self.__rd * 173.7178\n",
    "\n",
    "    def setRd(self, rd):\n",
    "        self.__rd = rd / 173.7178\n",
    "\n",
    "    rd = property(getRd, setRd)\n",
    "\n",
    "    def __init__(self, rating = 1500, rd = 350, vol = 0.06):\n",
    "        # For testing purposes, preload the values\n",
    "        # assigned to an unrated player.\n",
    "        self.setRating(rating)\n",
    "        self.setRd(rd)\n",
    "        self.vol = vol\n",
    "\n",
    "    def _preRatingRD(self):\n",
    "        \"\"\" Calculates and updates the player's rating deviation for the\n",
    "        beginning of a rating period.\n",
    "\n",
    "        preRatingRD() -> None\n",
    "\n",
    "        \"\"\"\n",
    "        self.__rd = math.sqrt(math.pow(self.__rd, 2) + math.pow(self.vol, 2))\n",
    "\n",
    "    def update_player(self, rating_list, RD_list, outcome_list):\n",
    "        \"\"\" Calculates the new rating and rating deviation of the player.\n",
    "\n",
    "        update_player(list[int], list[int], list[bool]) -> None\n",
    "\n",
    "        \"\"\"\n",
    "        # Convert the rating and rating deviation values for internal use.\n",
    "        rating_list = [(x - 1500) / 173.7178 for x in rating_list]\n",
    "        RD_list = [x / 173.7178 for x in RD_list]\n",
    "\n",
    "        v = self._v(rating_list, RD_list)\n",
    "        self.vol = self._newVol(rating_list, RD_list, outcome_list, v)\n",
    "        self._preRatingRD()\n",
    "\n",
    "        self.__rd = 1 / math.sqrt((1 / math.pow(self.__rd, 2)) + (1 / v))\n",
    "\n",
    "        tempSum = 0\n",
    "        for i in range(len(rating_list)):\n",
    "            tempSum += self._g(RD_list[i]) * \\\n",
    "                       (outcome_list[i] - self._E(rating_list[i], RD_list[i]))\n",
    "        self.__rating += math.pow(self.__rd, 2) * tempSum\n",
    "\n",
    "\n",
    "    def _newVol(self, rating_list, RD_list, outcome_list, v):\n",
    "        \"\"\" Calculating the new volatility as per the Glicko2 system.\n",
    "\n",
    "        _newVol(list, list, list) -> float\n",
    "\n",
    "        \"\"\"\n",
    "        i = 0\n",
    "        delta = self._delta(rating_list, RD_list, outcome_list, v)\n",
    "        a = math.log(math.pow(self.vol, 2))\n",
    "        tau = self._tau\n",
    "        x0 = a\n",
    "        x1 = 0\n",
    "\n",
    "        while x0 != x1:\n",
    "            # New iteration, so x(i) becomes x(i-1)\n",
    "            x0 = x1\n",
    "            d = math.pow(self.__rating, 2) + v + math.exp(x0)\n",
    "            h1 = -(x0 - a) / math.pow(tau, 2) - 0.5 * math.exp(x0) \\\n",
    "            / d + 0.5 * math.exp(x0) * math.pow(delta / d, 2)\n",
    "            h2 = -1 / math.pow(tau, 2) - 0.5 * math.exp(x0) * \\\n",
    "            (math.pow(self.__rating, 2) + v) \\\n",
    "            / math.pow(d, 2) + 0.5 * math.pow(delta, 2) * math.exp(x0) \\\n",
    "            * (math.pow(self.__rating, 2) + v - math.exp(x0)) / math.pow(d, 3)\n",
    "            x1 = x0 - (h1 / h2)\n",
    "\n",
    "        return math.exp(x1 / 2)\n",
    "\n",
    "    def _delta(self, rating_list, RD_list, outcome_list, v):\n",
    "        \"\"\" The delta function of the Glicko2 system.\n",
    "\n",
    "        _delta(list, list, list) -> float\n",
    "\n",
    "        \"\"\"\n",
    "        tempSum = 0\n",
    "        for i in range(len(rating_list)):\n",
    "            tempSum += self._g(RD_list[i]) * (outcome_list[i] - self._E(rating_list[i], RD_list[i]))\n",
    "        return v * tempSum\n",
    "\n",
    "    def _v(self, rating_list, RD_list):\n",
    "        \"\"\" The v function of the Glicko2 system.\n",
    "\n",
    "        _v(list[int], list[int]) -> float\n",
    "\n",
    "        \"\"\"\n",
    "        tempSum = 0\n",
    "        for i in range(len(rating_list)):\n",
    "            tempE = self._E(rating_list[i], RD_list[i])\n",
    "            tempSum += math.pow(self._g(RD_list[i]), 2) * tempE * (1 - tempE)\n",
    "        return 1 / tempSum\n",
    "\n",
    "    def _E(self, p2rating, p2RD):\n",
    "        \"\"\" The Glicko E function.\n",
    "\n",
    "        _E(int) -> float\n",
    "\n",
    "        \"\"\"\n",
    "        return 1 / (1 + math.exp(-1 * self._g(p2RD) * \\\n",
    "                                 (self.__rating - p2rating)))\n",
    "\n",
    "    def _g(self, RD):\n",
    "        \"\"\" The Glicko2 g(RD) function.\n",
    "\n",
    "        _g() -> float\n",
    "\n",
    "        \"\"\"\n",
    "        return 1 / math.sqrt(1 + 3 * math.pow(RD, 2) / math.pow(math.pi, 2))\n",
    "\n",
    "    def did_not_compete(self):\n",
    "        \"\"\" Applies Step 6 of the algorithm. Use this for\n",
    "        players who did not compete in the rating period.\n",
    "\n",
    "        did_not_compete() -> None\n",
    "\n",
    "        \"\"\"\n",
    "        self._preRatingRD()\n",
    "\n",
    "\n",
    "    # New code below\n",
    "    def reduce_impact(self, RD):\n",
    "        return 1. / math.sqrt(1 + (3 * RD ** 2) / (math.pi ** 2))\n",
    "\n",
    "    def expect_score(self, rating, other_rating, impact):\n",
    "        return 1. / (1 + math.exp(-impact * (rating - other_rating)))\n",
    "\n",
    "    def quality_1vs1(self, p2rating, p2RD):\n",
    "\n",
    "        if isinstance(p2rating, list):\n",
    "            quality_score = []\n",
    "            for i in range(0, len(p2rating)):\n",
    "                expected_score1 = self.expect_score(self.rating, p2rating[i], self.reduce_impact(self.rd))\n",
    "                expected_score2 = self.expect_score(p2rating[i], self.rating, self.reduce_impact(p2RD[i]))\n",
    "                expected_score = (expected_score1 + expected_score2) / 2\n",
    "                quality_score.append(2 * (0.5 - abs(0.5 - expected_score)))\n",
    "            return quality_score\n",
    "\n",
    "        else:\n",
    "            expected_score1 = self.expect_score(self.rating, p2rating, self.reduce_impact(self.rd))\n",
    "            expected_score2 = self.expect_score(p2rating, self.rating, self.reduce_impact(p2RD))\n",
    "            expected_score = (expected_score1 + expected_score2) / 2\n",
    "        return 2 * (0.5 - abs(0.5 - expected_score))\n"
   ],
   "metadata": {
    "collapsed": false,
    "ExecuteTime": {
     "end_time": "2024-07-20T19:01:43.397169Z",
     "start_time": "2024-07-20T19:01:43.368923700Z"
    }
   }
  },
  {
   "cell_type": "markdown",
   "source": [],
   "metadata": {
    "collapsed": false
   }
  },
  {
   "cell_type": "code",
   "execution_count": 49,
   "outputs": [],
   "source": [
    "# Initialize a player\n",
    "player = Player()"
   ],
   "metadata": {
    "collapsed": false,
    "ExecuteTime": {
     "end_time": "2024-07-20T19:01:43.401227100Z",
     "start_time": "2024-07-20T19:01:43.383243700Z"
    }
   }
  },
  {
   "cell_type": "code",
   "execution_count": 50,
   "outputs": [
    {
     "name": "stdout",
     "output_type": "stream",
     "text": [
      "[0.6291196177624894, 0.7047410016253948, 0.7382793168368262, 0.6669633658410627, 1.0]\n",
      "Updated Rating: 1684.0064486186163\n",
      "Updated RD: 155.1182079091785\n"
     ]
    }
   ],
   "source": [
    "\n",
    "# Series of opponent ratings, RDs, and outcomes\n",
    "opponent_ratings = [1600, 1550, 1700, 1520, 1500]  # Ratings of opponents\n",
    "opponent_rds = [30, 50, 40, 20, 350]            # RDs of opponents\n",
    "outcomes = [1, 0.5, 0, 1, 1]                 # Outcomes: 1=win, 0.5=draw, 0=loss\n",
    "\n",
    "print(player.quality_1vs1(opponent_ratings, opponent_rds))\n",
    "\n",
    "# Update the player's rating based on these matches\n",
    "player.update_player(opponent_ratings, opponent_rds, outcomes)\n",
    "\n",
    "# Get the updated rating and RD\n",
    "print(f\"Updated Rating: {player.rating}\")\n",
    "print(f\"Updated RD: {player.rd}\")"
   ],
   "metadata": {
    "collapsed": false,
    "ExecuteTime": {
     "end_time": "2024-07-20T19:01:43.415244700Z",
     "start_time": "2024-07-20T19:01:43.404609900Z"
    }
   }
  },
  {
   "cell_type": "code",
   "execution_count": null,
   "outputs": [],
   "source": [],
   "metadata": {
    "collapsed": false
   }
  }
 ],
 "metadata": {
  "kernelspec": {
   "display_name": "Python 3",
   "language": "python",
   "name": "python3"
  },
  "language_info": {
   "codemirror_mode": {
    "name": "ipython",
    "version": 2
   },
   "file_extension": ".py",
   "mimetype": "text/x-python",
   "name": "python",
   "nbconvert_exporter": "python",
   "pygments_lexer": "ipython2",
   "version": "2.7.6"
  }
 },
 "nbformat": 4,
 "nbformat_minor": 0
}
